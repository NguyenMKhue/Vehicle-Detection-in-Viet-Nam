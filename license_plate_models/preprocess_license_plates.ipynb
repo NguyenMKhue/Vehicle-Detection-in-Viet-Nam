{
 "cells": [
  {
   "cell_type": "code",
   "execution_count": 17,
   "metadata": {},
   "outputs": [],
   "source": [
    "import imgaug as ia\n",
    "import imgaug.augmenters as iaa\n",
    "from imgaug.augmentables.bbs import BoundingBox, BoundingBoxesOnImage\n",
    "import glob \n",
    "import cv2\n",
    "import matplotlib.pyplot as plt\n",
    "import numpy as np\n",
    "import math\n",
    "import random"
   ]
  },
  {
   "cell_type": "code",
   "execution_count": 2,
   "metadata": {},
   "outputs": [],
   "source": [
    "images = []\n",
    "images_path = glob.glob(\"plate_dataset/*.jpg\")\n",
    "labels = [0]"
   ]
  },
  {
   "cell_type": "code",
   "execution_count": 3,
   "metadata": {},
   "outputs": [
    {
     "name": "stdout",
     "output_type": "stream",
     "text": [
      "plate_dataset/63.jpg\n"
     ]
    }
   ],
   "source": [
    "print(images_path[0])"
   ]
  },
  {
   "cell_type": "code",
   "execution_count": 13,
   "metadata": {},
   "outputs": [],
   "source": [
    "def yolobbox2bbox(x,y,w,h,dw,dh):\n",
    "    x1, y1 = (x-w/2)*dw, (y-h/2)*dh\n",
    "    x2, y2 = (x+w/2)*dw, (y+h/2)*dh\n",
    "    return ((x1), (y1), (x2), (y2))"
   ]
  },
  {
   "cell_type": "code",
   "execution_count": null,
   "metadata": {},
   "outputs": [],
   "source": [
    "aug_num = 0\n",
    "for img_path in images_path:\n",
    "    img = cv2.imread(img_path)\n",
    "    images.append(img)\n",
    "    img_name = img_path[:-3]\n",
    "    label_path = img_name + 'txt'\n",
    "    dh, dw, _ = img.shape\n",
    "    with open(label_path,'r') as file:\n",
    "        xys = []\n",
    "        for line in file:\n",
    "            label,x,y,w,h = [float(x) for x in line.split()]\n",
    "            if(label in labels):\n",
    "                x1,y1,x2,y2 = yolobbox2bbox(x,y,w,h,dw,dh)\n",
    "                xys.append((x1,y1,x2,y2,label))\n",
    "            else:\n",
    "                print(\"UNKNOWN LABEL FOUND!\")\n",
    "                break\n",
    "        bbs = BoundingBoxesOnImage([BoundingBox(x1,y1,x2,y2,label) for x1,y1,x2,y2,label in xys],shape=img.shape)\n",
    "        aug_img, aug_bbs = augmentation(image = img,bounding_boxes=bbs)\n",
    "        save_file(f\"plate_dataset/augmented_plate_{aug_num}.jpg\",aug_img)\n",
    "        dh, dw, _ = aug_img.shape\n",
    "        with open(f\"plate_dataset/augmented_plate_{aug_num}.txt\",'w') as f:\n",
    "            for box in aug_bbs.bounding_boxes:\n",
    "                x,y,w,h = pascal_voc_to_yolo(box.x1,box.y1,box.x2,box.y2,dw,dh)\n",
    "                f.write(f\"{int(label)} {x} {y} {w} {h}\\n\")\n",
    "        aug_num+=1"
   ]
  },
  {
   "cell_type": "code",
   "execution_count": null,
   "metadata": {},
   "outputs": [],
   "source": [
    "augmentation = iaa.Sequential([\n",
    "        iaa.OneOf([ ## rotate\n",
    "            iaa.Affine(rotate=0),\n",
    "            iaa.Affine(rotate=90),\n",
    "            iaa.Affine(rotate=180),\n",
    "            iaa.Affine(rotate=270),\n",
    "        ]),\n",
    "\n",
    "        iaa.Fliplr(0.5),\n",
    "        iaa.Flipud(0.2),\n",
    "\n",
    "        iaa.OneOf([ # drop out augmentation\n",
    "            iaa.CoarseDropout((0.0, 0.05), size_percent=(0.02, 0.25)),\n",
    "            ]),\n",
    "\n",
    "        iaa.OneOf([ ## weather augmentation\n",
    "            iaa.Rain(speed=(0.3, 0.5)),\n",
    "        ]),  \n",
    "\n",
    "        iaa.OneOf([ ## brightness or contrast\n",
    "            iaa.Multiply((0.8, 1.0)),\n",
    "            iaa.contrast.LinearContrast((0.9, 1.1)),\n",
    "        ]),\n",
    "\n",
    "        iaa.OneOf([ ## blur or sharpen\n",
    "            iaa.GaussianBlur(sigma=(0.0, 0.1)),\n",
    "            iaa.Sharpen(alpha=(0.0, 0.1)),\n",
    "        ])\n",
    "    ],\n",
    "    # do all of the above augmentations in random order\n",
    "    random_order=True\n",
    ")"
   ]
  },
  {
   "cell_type": "code",
   "execution_count": 14,
   "metadata": {},
   "outputs": [],
   "source": [
    "def save_file(img_name,img):\n",
    "    cv2.imwrite(img_name, img)\n",
    "def convert(size, box):\n",
    "    dw = 1./size[0]\n",
    "    dh = 1./size[1]\n",
    "    x = (box[0] + box[1])/2.0\n",
    "    y = (box[2] + box[3])/2.0\n",
    "    w = box[1] - box[0]\n",
    "    h = box[3] - box[2]\n",
    "    x = x*dw\n",
    "    w = w*dw\n",
    "    y = y*dh\n",
    "    h = h*dh\n",
    "    return (x,y,w,h) \n",
    "def pascal_voc_to_yolo(x1, y1, x2, y2, image_w, image_h):\n",
    "    return [((x2 + x1)/(2*image_w)), ((y2 + y1)/(2*image_h)), (x2 - x1)/image_w, (y2 - y1)/image_h]"
   ]
  },
  {
   "cell_type": "code",
   "execution_count": 16,
   "metadata": {},
   "outputs": [
    {
     "name": "stdout",
     "output_type": "stream",
     "text": [
      "0.0 0.438559 0.44719500000000006 0.11016899999999992 0.12871300000000005\n",
      "180.999964 116.0000655 232.99973199999997 155.00010450000002\n"
     ]
    }
   ],
   "source": [
    "img_file = \"plate_dataset/zoomed_augmented_plate_0.jpg\"\n",
    "label_path = \"plate_dataset/zoomed_augmented_plate_0.txt\"\n",
    "image = cv2.imread(img_file)\n",
    "dh, dw, _ = image.shape\n",
    "with open(label_path,'r') as file:\n",
    "    xys=[]\n",
    "    for line in file:\n",
    "        label,x,y,w,h = [float(x) for x in line.split()]\n",
    "        print(label,x,y,w,h)\n",
    "        if(label in labels):\n",
    "            x1,y1,x2,y2 = yolobbox2bbox(x,y,w,h,dw,dh)\n",
    "            print(x1,y1,x2,y2)\n",
    "            cv2.rectangle(image, (int(x1), int(y1)), (int(x2), int(y2)), (255, 0, 0), 1)\n",
    "            xys.append((x1,y1,x2,y2,label))\n",
    "    bbs = BoundingBoxesOnImage([BoundingBox(x1,y1,x2,y2,label) for x1,y1,x2,y2,label in xys],shape=image.shape)\n",
    "    cv2.imshow('image2',image)\n",
    "    cv2.waitKey(0)\n",
    "    cv2.destroyAllWindows()"
   ]
  },
  {
   "cell_type": "code",
   "execution_count": null,
   "metadata": {},
   "outputs": [],
   "source": [
    "img = images_path[0]\n",
    "img = cv2.imread(img)\n",
    "augmentation = iaa.Sequential([\n",
    "        iaa.Affine(scale=0.5)\n",
    "    ],\n",
    "    # do all of the above augmentations in random order\n",
    "    random_order=True\n",
    ")\n",
    "aug_img = augmentation(image = img)\n",
    "cv2.imshow('image2',aug_img)\n",
    "cv2.waitKey(0)\n",
    "cv2.destroyAllWindows()"
   ]
  },
  {
   "cell_type": "code",
   "execution_count": 19,
   "metadata": {},
   "outputs": [],
   "source": [
    "augmentation = iaa.Sequential([\n",
    "        iaa.Affine(scale=(0.2,0.5))\n",
    "    ],\n",
    ")"
   ]
  },
  {
   "cell_type": "code",
   "execution_count": 20,
   "metadata": {},
   "outputs": [],
   "source": [
    "import cv2\n",
    "import random\n",
    "\n",
    "# Shuffle the list of image paths\n",
    "random.shuffle(images_path)\n",
    "\n",
    "# Select the first 3000 paths\n",
    "selected_images_path = images_path[:3000]\n",
    "\n",
    "aug_num = 0\n",
    "for img_path in selected_images_path:\n",
    "    img = cv2.imread(img_path)\n",
    "    images.append(img)\n",
    "    img_name = img_path[:-3]\n",
    "    label_path = img_name + 'txt'\n",
    "    dh, dw, _ = img.shape\n",
    "    with open(label_path, 'r') as file:\n",
    "        xys = []\n",
    "        for line in file:\n",
    "            label, x, y, w, h = [float(x) for x in line.split()]\n",
    "            if label in labels:\n",
    "                x1, y1, x2, y2 = yolobbox2bbox(x, y, w, h, dw, dh)\n",
    "                xys.append((x1, y1, x2, y2, label))\n",
    "            else:\n",
    "                print(\"UNKNOWN LABEL FOUND!\")\n",
    "                break\n",
    "        bbs = BoundingBoxesOnImage([BoundingBox(x1, y1, x2, y2, label) for x1, y1, x2, y2, label in xys], shape=img.shape)\n",
    "        aug_img, aug_bbs = augmentation(image=img, bounding_boxes=bbs)\n",
    "        save_file(f\"plate_dataset/zoomed_augmented_plate_{aug_num}.jpg\", aug_img)\n",
    "        dh, dw, _ = aug_img.shape\n",
    "        with open(f\"plate_dataset/zoomed_augmented_plate_{aug_num}.txt\", 'w') as f:\n",
    "            for box in aug_bbs.bounding_boxes:\n",
    "                x, y, w, h = pascal_voc_to_yolo(box.x1, box.y1, box.x2, box.y2, dw, dh)\n",
    "                f.write(f\"{int(label)} {x} {y} {w} {h}\\n\")\n",
    "        aug_num += 1"
   ]
  },
  {
   "cell_type": "code",
   "execution_count": null,
   "metadata": {},
   "outputs": [],
   "source": []
  }
 ],
 "metadata": {
  "kernelspec": {
   "display_name": "Python 3 (ipykernel)",
   "language": "python",
   "name": "python3"
  },
  "language_info": {
   "codemirror_mode": {
    "name": "ipython",
    "version": 3
   },
   "file_extension": ".py",
   "mimetype": "text/x-python",
   "name": "python",
   "nbconvert_exporter": "python",
   "pygments_lexer": "ipython3",
   "version": "3.9.13"
  }
 },
 "nbformat": 4,
 "nbformat_minor": 2
}
