{
 "cells": [
  {
   "cell_type": "code",
   "execution_count": 163,
   "metadata": {
    "vscode": {
     "languageId": "powershell"
    }
   },
   "outputs": [],
   "source": [
    "import imgaug as ia\n",
    "import imgaug.augmenters as iaa\n",
    "from imgaug.augmentables.bbs import BoundingBox, BoundingBoxesOnImage\n",
    "import glob \n",
    "import cv2\n",
    "import matplotlib.pyplot as plt\n",
    "import numpy as np\n",
    "import math\n",
    "import random\n",
    "import os\n",
    "import shutil"
   ]
  },
  {
   "cell_type": "code",
   "execution_count": null,
   "metadata": {
    "vscode": {
     "languageId": "powershell"
    }
   },
   "outputs": [],
   "source": []
  },
  {
   "cell_type": "code",
   "execution_count": 164,
   "metadata": {
    "vscode": {
     "languageId": "powershell"
    }
   },
   "outputs": [],
   "source": [
    "def move_files_to_folder(folder_path):\n",
    "    # Iterate through folders 1, 2, 3, and 4\n",
    "    for folder_name in ['Dat1', 'Dat2', 'Duong1', 'Duong2']:\n",
    "        source_folder = os.path.join(folder_path, folder_name)\n",
    "        # Check if the folder exists\n",
    "        if os.path.exists(source_folder):\n",
    "            # Move files from the source folder to the main folder\n",
    "            for filename in os.listdir(source_folder):\n",
    "                source_file = os.path.join(source_folder, filename)\n",
    "                destination_file = os.path.join(folder_path, filename)\n",
    "                # Check if the file already exists in the destination folder\n",
    "                if not os.path.exists(destination_file):\n",
    "                    shutil.move(source_file, destination_file)\n",
    "                else:\n",
    "                    print(f\"File '{filename}' already exists in the destination folder.\")\n",
    "            shutil.rmtree(source_folder)\n",
    "        else:\n",
    "            print(f\"Folder '{folder_name}' does not exist in '{folder_path}'.\")"
   ]
  },
  {
   "cell_type": "code",
   "execution_count": 165,
   "metadata": {
    "vscode": {
     "languageId": "powershell"
    }
   },
   "outputs": [
    {
     "name": "stdout",
     "output_type": "stream",
     "text": [
      "File 'classes.txt' already exists in the destination folder.\n",
      "File 'classes.txt' already exists in the destination folder.\n",
      "File 'classes.txt' already exists in the destination folder.\n"
     ]
    }
   ],
   "source": [
    "folder_path = \"/Users/khuenguyen/Desktop/Vehicle_Detection/vehicle_detection_models/vehicle_dataset\"\n",
    "move_files_to_folder(folder_path)"
   ]
  },
  {
   "cell_type": "code",
   "execution_count": 166,
   "metadata": {
    "vscode": {
     "languageId": "powershell"
    }
   },
   "outputs": [],
   "source": [
    "images = []\n",
    "images_path = glob.glob(\"vehicle_dataset/*.jpg\")"
   ]
  },
  {
   "cell_type": "code",
   "execution_count": 167,
   "metadata": {
    "vscode": {
     "languageId": "powershell"
    }
   },
   "outputs": [],
   "source": [
    "new_image_path = []"
   ]
  },
  {
   "cell_type": "code",
   "execution_count": 168,
   "metadata": {
    "vscode": {
     "languageId": "powershell"
    }
   },
   "outputs": [],
   "source": [
    "labels = [0,1,2,3,4,5]\n",
    "labels_dict = {0:0,1:1,2:2,3:3,4:0,5:2}\n",
    "new_labels = [0,1,2,3]"
   ]
  },
  {
   "cell_type": "code",
   "execution_count": 169,
   "metadata": {
    "vscode": {
     "languageId": "powershell"
    }
   },
   "outputs": [],
   "source": [
    "for img_path in images_path:\n",
    "    img_name = img_path[:-3]\n",
    "    label_path = img_name + 'txt'\n",
    "    xys = []\n",
    "    if not os.path.isfile(label_path):\n",
    "        os.remove(img_path)\n",
    "        continue\n",
    "    with open(label_path,'r') as file:\n",
    "        for line in file:\n",
    "            label,x,y,w,h = [float(x) for x in line.split()]\n",
    "            if(int(label) in labels):\n",
    "                label = labels_dict[int(label)]\n",
    "                xys.append((label,x,y,w,h))\n",
    "            else:\n",
    "                print(\"UNKNOWN LABEL FOUND!\")\n",
    "                break\n",
    "\n",
    "    with open(label_path,'w') as file:\n",
    "    \n",
    "        for label,x,y,w,h in xys:\n",
    "            if(int(label) in new_labels):\n",
    "                file.write(f\"{int(label)} {x} {y} {w} {h}\\n\")\n",
    "            else:\n",
    "                print(f\"Wrong labels found for {label_path}\")\n",
    "    new_image_path.append(img_path)\n",
    "\n",
    "\n",
    "    "
   ]
  },
  {
   "cell_type": "code",
   "execution_count": 170,
   "metadata": {
    "vscode": {
     "languageId": "powershell"
    }
   },
   "outputs": [],
   "source": [
    "labels = new_labels"
   ]
  },
  {
   "cell_type": "code",
   "execution_count": null,
   "metadata": {
    "vscode": {
     "languageId": "powershell"
    }
   },
   "outputs": [],
   "source": []
  },
  {
   "cell_type": "code",
   "execution_count": 171,
   "metadata": {
    "vscode": {
     "languageId": "powershell"
    }
   },
   "outputs": [],
   "source": [
    "for img_path in new_image_path:\n",
    "    img_name = img_path[:-3]\n",
    "    label_path = img_name + 'txt'\n",
    "    if not os.path.isfile(label_path):\n",
    "        print(f\"No label for {img_path}\")\n",
    "        os.remove(img_path)\n",
    "        images_path.remove(img_path)\n",
    "        continue\n",
    "    with open(label_path,'r') as file:\n",
    "        for line in file:\n",
    "            label,x,y,w,h = [float(x) for x in line.split()]\n",
    "            if(int(label) in labels):\n",
    "                pass\n",
    "            else:\n",
    "                print(\"UNKNOWN LABEL FOUND!\")\n",
    "                print(label_path)\n",
    "                break"
   ]
  },
  {
   "cell_type": "code",
   "execution_count": 172,
   "metadata": {
    "vscode": {
     "languageId": "powershell"
    }
   },
   "outputs": [
    {
     "data": {
      "text/plain": [
       "[0, 1, 2, 3]"
      ]
     },
     "execution_count": 172,
     "metadata": {},
     "output_type": "execute_result"
    }
   ],
   "source": [
    "labels"
   ]
  },
  {
   "cell_type": "code",
   "execution_count": null,
   "metadata": {
    "vscode": {
     "languageId": "powershell"
    }
   },
   "outputs": [],
   "source": []
  },
  {
   "cell_type": "code",
   "execution_count": 173,
   "metadata": {
    "vscode": {
     "languageId": "powershell"
    }
   },
   "outputs": [
    {
     "name": "stdout",
     "output_type": "stream",
     "text": [
      "vehicle_dataset/final.5493094c-e1b9-11ee-ae34-a6d57e25c571.jpg\n"
     ]
    }
   ],
   "source": [
    "print(images_path[0])"
   ]
  },
  {
   "cell_type": "code",
   "execution_count": 174,
   "metadata": {
    "vscode": {
     "languageId": "powershell"
    }
   },
   "outputs": [],
   "source": [
    "def yolobbox2bbox(x,y,w,h,dw,dh):\n",
    "    x1, y1 = (x-w/2)*dw, (y-h/2)*dh\n",
    "    x2, y2 = (x+w/2)*dw, (y+h/2)*dh\n",
    "    return ((x1), (y1), (x2), (y2))"
   ]
  },
  {
   "cell_type": "code",
   "execution_count": 175,
   "metadata": {
    "vscode": {
     "languageId": "powershell"
    }
   },
   "outputs": [],
   "source": [
    "def save_file(img_name,img):\n",
    "    cv2.imwrite(img_name, img)\n",
    "def convert(size, box):\n",
    "    dw = 1./size[0]\n",
    "    dh = 1./size[1]\n",
    "    x = (box[0] + box[1])/2.0\n",
    "    y = (box[2] + box[3])/2.0\n",
    "    w = box[1] - box[0]\n",
    "    h = box[3] - box[2]\n",
    "    x = x*dw\n",
    "    w = w*dw\n",
    "    y = y*dh\n",
    "    h = h*dh\n",
    "    return (x,y,w,h) \n",
    "def pascal_voc_to_yolo(x1, y1, x2, y2, image_w, image_h):\n",
    "    return [((x2 + x1)/(2*image_w)), ((y2 + y1)/(2*image_h)), ((x2 - x1)/image_w), ((y2 - y1)/image_h)]"
   ]
  },
  {
   "cell_type": "code",
   "execution_count": 176,
   "metadata": {
    "vscode": {
     "languageId": "powershell"
    }
   },
   "outputs": [],
   "source": [
    "augmentation = iaa.Sequential([\n",
    "        iaa.OneOf([ ## rotate\n",
    "            iaa.Affine(rotate=0),\n",
    "            iaa.Affine(rotate=90)\n",
    "        ]),\n",
    "\n",
    "        iaa.Fliplr(0.5),\n",
    "        iaa.Flipud(0.2),\n",
    "\n",
    "        iaa.OneOf([ # drop out augmentation\n",
    "            iaa.CoarseDropout((0.0, 0.05), size_percent=(0.02, 0.25)),\n",
    "            ]),\n",
    "\n",
    "        iaa.OneOf([ ## weather augmentation\n",
    "            iaa.Rain(speed=(0.3, 0.5)),\n",
    "        ]),  \n",
    "\n",
    "        iaa.OneOf([ ## brightness or contrast\n",
    "            iaa.Multiply((0.8, 1.0)),\n",
    "            iaa.contrast.LinearContrast((0.9, 1.1)),\n",
    "        ]),\n",
    "\n",
    "        iaa.OneOf([ ## blur or sharpen\n",
    "            iaa.GaussianBlur(sigma=(0.0, 0.1)),\n",
    "            iaa.Sharpen(alpha=(0.0, 0.1)),\n",
    "        ])\n",
    "    ],\n",
    "    # do all of the above augmentations in random order\n",
    "    random_order=True\n",
    ")"
   ]
  },
  {
   "cell_type": "code",
   "execution_count": 177,
   "metadata": {
    "vscode": {
     "languageId": "powershell"
    }
   },
   "outputs": [],
   "source": [
    "for img_path in new_image_path:\n",
    "    img_name = img_path[:-3]\n",
    "    label_path = img_name + 'txt'\n",
    "    if not os.path.isfile(label_path):\n",
    "        os.remove(img_path)\n",
    "        images_path.remove(img_path)\n",
    "        continue\n",
    "    delete = False\n",
    "    with open(label_path,'r') as file:\n",
    "        xys = []\n",
    "        for line in file:\n",
    "            label,x,y,w,h = [float(x) for x in line.split()]\n",
    "            if(int(label) in labels):\n",
    "                pass\n",
    "            else:\n",
    "                print(\"UNKNOWN LABEL FOUND!\")\n",
    "                print(label)\n",
    "                print(img_path)\n",
    "                delete = True\n",
    "                break\n",
    "    if delete:\n",
    "        print(img_path)\n",
    "        os.remove(img_path)\n",
    "        os.remove(label_path)\n",
    "        images_path.remove(img_path)"
   ]
  },
  {
   "cell_type": "code",
   "execution_count": 178,
   "metadata": {
    "vscode": {
     "languageId": "powershell"
    }
   },
   "outputs": [],
   "source": [
    "aug_num = 0\n",
    "for img_path in new_image_path:\n",
    "    img = cv2.imread(img_path)\n",
    "    images.append(img)\n",
    "    img_name = img_path[:-3]\n",
    "    label_path = img_name + 'txt'\n",
    "    dh, dw, _ = img.shape\n",
    "    if not os.path.isfile(label_path):\n",
    "        os.remove(img_path)\n",
    "        images_path.remove(img_path)\n",
    "        continue\n",
    "    with open(label_path,'r') as file:\n",
    "        xys = []\n",
    "        for line in file:\n",
    "            label,x,y,w,h = [float(x) for x in line.split()]\n",
    "            if(int(label) in labels):\n",
    "                x1,y1,x2,y2 = yolobbox2bbox(x,y,w,h,dw,dh)\n",
    "                xys.append((x1,y1,x2,y2,label))\n",
    "            else:\n",
    "                print(\"UNKNOWN LABEL FOUND!\")\n",
    "                print(label)\n",
    "                print(img_path)\n",
    "                break\n",
    "        bbs = BoundingBoxesOnImage([BoundingBox(x1,y1,x2,y2,label) for x1,y1,x2,y2,label in xys],shape=img.shape)\n",
    "        aug_img, aug_bbs = augmentation(image = img,bounding_boxes=bbs)\n",
    "        save_file(f\"vehicle_dataset/augmented_vehicle_{aug_num}.jpg\",aug_img)\n",
    "        dh, dw, _ = aug_img.shape\n",
    "        with open(f\"vehicle_dataset/augmented_vehicle_{aug_num}.txt\",'w') as f:\n",
    "            for box in aug_bbs.bounding_boxes:\n",
    "                x,y,w,h = pascal_voc_to_yolo(box.x1,box.y1,box.x2,box.y2,dw,dh)\n",
    "                if(x<0): x = 0\n",
    "                if(x>1): x = 1\n",
    "                if(y<0): y = 0\n",
    "                if(y>1): y = 1\n",
    "                f.write(f\"{int(label)} {x} {y} {w} {h}\\n\")\n",
    "        aug_num+=1"
   ]
  },
  {
   "cell_type": "code",
   "execution_count": null,
   "metadata": {
    "vscode": {
     "languageId": "powershell"
    }
   },
   "outputs": [],
   "source": []
  }
 ],
 "metadata": {
  "kernelspec": {
   "display_name": "base",
   "language": "python",
   "name": "python3"
  },
  "language_info": {
   "codemirror_mode": {
    "name": "ipython",
    "version": 3
   },
   "file_extension": ".py",
   "mimetype": "text/x-python",
   "name": "python",
   "nbconvert_exporter": "python",
   "pygments_lexer": "ipython3",
   "version": "3.9.13"
  }
 },
 "nbformat": 4,
 "nbformat_minor": 2
}
