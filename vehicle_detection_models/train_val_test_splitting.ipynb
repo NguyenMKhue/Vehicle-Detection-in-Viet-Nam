{
 "cells": [
  {
   "cell_type": "code",
   "execution_count": 29,
   "id": "39438aac",
   "metadata": {},
   "outputs": [],
   "source": [
    "import os\n",
    "import random\n",
    "from sklearn.model_selection import train_test_split\n",
    "import glob \n",
    "import shutil\n",
    "\n",
    "# Path to your folder containing JPG files and annotation files\n",
    "files_folder = \"/Users/khuenguyen/Desktop/Vehicle_Detection/vehicle_detection_models/vehicle_dataset\"\n"
   ]
  },
  {
   "cell_type": "code",
   "execution_count": 30,
   "id": "adb5e895",
   "metadata": {},
   "outputs": [],
   "source": [
    "def check_input(images_path):\n",
    "    for image_path in images_path:\n",
    "        img_name = image_path[:-3]\n",
    "        label_path = img_name + 'txt'\n",
    "        if not os.path.isfile(label_path):\n",
    "            print(f\"Label file not found for {image_path}\")"
   ]
  },
  {
   "cell_type": "code",
   "execution_count": 31,
   "id": "44334f64",
   "metadata": {},
   "outputs": [],
   "source": [
    "images_path = glob.glob(\"vehicle_dataset/*.jpg\")\n",
    "check_input(images_path)"
   ]
  },
  {
   "cell_type": "code",
   "execution_count": 32,
   "id": "494836c6",
   "metadata": {},
   "outputs": [],
   "source": [
    "\n",
    "# List all files in the folder\n",
    "file_names = os.listdir(files_folder)\n",
    "\n",
    "# Separate JPG and annotation files\n",
    "jpg_files = [file for file in file_names if file.endswith('.jpg') or file.endswith('.jpeg')]\n",
    "annotation_files = [file for file in file_names if file.endswith('.txt')]\n",
    "\n",
    "# Shuffle the file names to ensure randomness in the split\n",
    "random.shuffle(jpg_files)\n",
    "\n",
    "# Split JPG files into train, validation, and test sets\n",
    "train_files, test_files = train_test_split(jpg_files, test_size=0.1, random_state=42)\n",
    "train_files, val_files = train_test_split(train_files, test_size=0.25, random_state=42) # 20/(70+20)=0.2222\n",
    "\n",
    "# Create corresponding lists of annotation files\n",
    "train_annotations = [file.replace('.jpg', '.txt') for file in train_files]\n",
    "val_annotations = [file.replace('.jpg', '.txt') for file in val_files]\n",
    "test_annotations = [file.replace('.jpg', '.txt') for file in test_files]"
   ]
  },
  {
   "cell_type": "code",
   "execution_count": 33,
   "id": "fd17e825",
   "metadata": {},
   "outputs": [],
   "source": [
    "# Move files to respective folders (train, val, test)\n",
    "def move_files(file_list, source_folder, destination_folder):\n",
    "    for file in file_list:\n",
    "        shutil.move(os.path.join(source_folder, file), os.path.join(destination_folder, file))"
   ]
  },
  {
   "cell_type": "code",
   "execution_count": 35,
   "id": "f872c031",
   "metadata": {},
   "outputs": [],
   "source": [
    "image_folder = \"/Users/khuenguyen/Desktop/Vehicle_Detection/vehicle_detection_models/vehicle_dataset/images\"\n",
    "# Create folders for train, val, and test sets if they don't exist\n",
    "train_folder = os.path.join(image_folder, 'train')\n",
    "val_folder = os.path.join(image_folder, 'val')\n",
    "test_folder = os.path.join(image_folder, 'test')\n",
    "for folder in [train_folder, val_folder, test_folder]:\n",
    "    os.makedirs(folder, exist_ok=True)\n",
    "\n",
    "# Move JPG files\n",
    "move_files(train_files, files_folder, train_folder)\n",
    "move_files(val_files, files_folder, val_folder)\n",
    "move_files(test_files, files_folder, test_folder)"
   ]
  },
  {
   "cell_type": "code",
   "execution_count": 36,
   "id": "acb91780",
   "metadata": {},
   "outputs": [],
   "source": [
    "\n",
    "label_folder = \"/Users/khuenguyen/Desktop/Vehicle_Detection/vehicle_detection_models/vehicle_dataset/labels\"\n",
    "\n",
    "train_folder = os.path.join(label_folder, 'train')\n",
    "val_folder = os.path.join(label_folder, 'val')\n",
    "test_folder = os.path.join(label_folder, 'test')\n",
    "\n",
    "for folder in [train_folder, val_folder, test_folder]:\n",
    "    os.makedirs(folder, exist_ok=True)\n",
    "\n",
    "# Move annotation files\n",
    "move_files(train_annotations, files_folder, train_folder)\n",
    "move_files(val_annotations, files_folder, val_folder)\n",
    "move_files(test_annotations, files_folder, test_folder)\n"
   ]
  },
  {
   "cell_type": "code",
   "execution_count": null,
   "id": "237b2261",
   "metadata": {},
   "outputs": [],
   "source": []
  }
 ],
 "metadata": {
  "kernelspec": {
   "display_name": "Python 3 (ipykernel)",
   "language": "python",
   "name": "python3"
  },
  "language_info": {
   "codemirror_mode": {
    "name": "ipython",
    "version": 3
   },
   "file_extension": ".py",
   "mimetype": "text/x-python",
   "name": "python",
   "nbconvert_exporter": "python",
   "pygments_lexer": "ipython3",
   "version": "3.9.13"
  }
 },
 "nbformat": 4,
 "nbformat_minor": 5
}
